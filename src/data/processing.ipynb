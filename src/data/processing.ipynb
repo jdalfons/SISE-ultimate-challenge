{
 "cells": [
  {
   "cell_type": "code",
   "execution_count": 2,
   "metadata": {},
   "outputs": [
    {
     "name": "stdout",
     "output_type": "stream",
     "text": [
      "<class 'pandas.core.frame.DataFrame'>\n",
      "RangeIndex: 112 entries, 0 to 111\n",
      "Data columns (total 2 columns):\n",
      " #   Column    Non-Null Count  Dtype \n",
      "---  ------    --------------  ----- \n",
      " 0   dossier   112 non-null    object\n",
      " 1    emotion  112 non-null    object\n",
      "dtypes: object(2)\n",
      "memory usage: 1.9+ KB\n"
     ]
    }
   ],
   "source": [
    "import pandas as pd\n",
    "\n",
    "data = pd.read_csv('dataset.csv', sep=',', header=0)\n",
    "\n",
    "data.info()\n",
    "\n"
   ]
  },
  {
   "cell_type": "code",
   "execution_count": 3,
   "metadata": {},
   "outputs": [
    {
     "name": "stdout",
     "output_type": "stream",
     "text": [
      "             dossier emotion\n",
      "0    colere/c1ac.wav  colere\n",
      "1    colere/c1af.wav  colere\n",
      "2    colere/c1aj.wav  colere\n",
      "3    colere/c1an.wav  colere\n",
      "4    colere/c1bc.wav  colere\n",
      "..               ...     ...\n",
      "107    joie/h4bn.wav    joie\n",
      "108    joie/h5an.wav    joie\n",
      "109     joie/h5c.wav    joie\n",
      "110     joie/h5f.wav    joie\n",
      "111     joie/h5j.wav    joie\n",
      "\n",
      "[112 rows x 2 columns]\n"
     ]
    },
    {
     "name": "stderr",
     "output_type": "stream",
     "text": [
      "C:\\Users\\Evidya\\AppData\\Local\\Temp\\ipykernel_24704\\3726049179.py:8: FutureWarning: DataFrame.applymap has been deprecated. Use DataFrame.map instead.\n",
      "  data = data.applymap(lambda x: x.strip() if isinstance(x, str) else x)\n"
     ]
    }
   ],
   "source": [
    "import pandas as pd\n",
    "\n",
    "\n",
    "# 🔹 1. Supprimer les espaces des noms de colonnes\n",
    "data.columns = data.columns.str.strip()\n",
    "\n",
    "# 🔹 2. Supprimer les espaces dans toutes les cellules (colonnes object)\n",
    "data = data.applymap(lambda x: x.strip() if isinstance(x, str) else x)\n",
    "\n",
    "# Afficher le DataFrame corrigé\n",
    "print(data)\n"
   ]
  },
  {
   "cell_type": "code",
   "execution_count": 4,
   "metadata": {},
   "outputs": [],
   "source": [
    "# save to csv\n",
    "data.to_csv('dataset.csv', index=False, sep=',')"
   ]
  }
 ],
 "metadata": {
  "kernelspec": {
   "display_name": ".venv",
   "language": "python",
   "name": "python3"
  },
  "language_info": {
   "codemirror_mode": {
    "name": "ipython",
    "version": 3
   },
   "file_extension": ".py",
   "mimetype": "text/x-python",
   "name": "python",
   "nbconvert_exporter": "python",
   "pygments_lexer": "ipython3",
   "version": "3.11.5"
  }
 },
 "nbformat": 4,
 "nbformat_minor": 2
}
