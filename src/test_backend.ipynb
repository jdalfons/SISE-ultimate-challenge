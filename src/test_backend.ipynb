{
 "cells": [
  {
   "cell_type": "code",
   "execution_count": 5,
   "metadata": {},
   "outputs": [
    {
     "name": "stdout",
     "output_type": "stream",
     "text": [
      "Transcription : tu as encore oublié de faire le dossier c'était hurgent nom de chien\n"
     ]
    }
   ],
   "source": [
    "# make a transcription from audio file\n",
    "from model.transcriber import transcribe_audio\n",
    "import os\n",
    "\n",
    "base_path = os.path.abspath(os.path.join(\"data\"))\n",
    "audio_path = os.path.join(base_path, \"colere\", \"c1af.wav\") # path to audio file\n",
    "texte = transcribe_audio(audio_path)\n",
    "print(f\"Transcription : {texte}\")"
   ]
  },
  {
   "cell_type": "code",
   "execution_count": null,
   "metadata": {},
   "outputs": [],
   "source": [
    "from predict import predict_emotion\n",
    "\n",
    "base_path = os.path.abspath(os.path.join(os.path.dirname(__file__), \"data\"))\n",
    "audio_file = os.path.join(base_path, \"colere\", \"c1ac.wav\")\n",
    "emotion = predict_emotion(audio_file)\n",
    "print(f\"🎤 L'émotion prédite est : {emotion}\")"
   ]
  }
 ],
 "metadata": {
  "kernelspec": {
   "display_name": ".venv",
   "language": "python",
   "name": "python3"
  },
  "language_info": {
   "codemirror_mode": {
    "name": "ipython",
    "version": 3
   },
   "file_extension": ".py",
   "mimetype": "text/x-python",
   "name": "python",
   "nbconvert_exporter": "python",
   "pygments_lexer": "ipython3",
   "version": "3.11.5"
  }
 },
 "nbformat": 4,
 "nbformat_minor": 2
}
